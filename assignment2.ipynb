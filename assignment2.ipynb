{
  "nbformat": 4,
  "nbformat_minor": 0,
  "metadata": {
    "colab": {
      "provenance": []
    },
    "kernelspec": {
      "name": "python3",
      "display_name": "Python 3"
    },
    "language_info": {
      "name": "python"
    }
  },
  "cells": [
    {
      "cell_type": "code",
      "execution_count": 7,
      "metadata": {
        "id": "XjNWnVlgKJGY"
      },
      "outputs": [],
      "source": [
        "import pandas as pd\n",
        "\n",
        "# Loadingggggg\n",
        "customers = pd.read_csv(\"AWCustomers.csv\")\n",
        "sales = pd.read_csv(\"AWSales.csv\")\n",
        "\n",
        "# Merginggg\n",
        "customers = customers.merge(sales[['CustomerID','BikeBuyer','AvgMonthSpend']], on='CustomerID', how='left')\n",
        "customers['BikeBuyer'] = customers['BikeBuyer'].fillna(0).astype(int)\n",
        "customers['AvgMonthSpend'] = customers['AvgMonthSpend'].fillna(0)\n",
        "\n",
        "# Selected features\n",
        "selected = customers[[\n",
        "    'BirthDate', 'Education', 'Occupation', 'Gender', 'MaritalStatus',\n",
        "    'HomeOwnerFlag', 'NumberCarsOwned', 'NumberChildrenAtHome',\n",
        "    'TotalChildren', 'YearlyIncome', 'BikeBuyer', 'AvgMonthSpend'\n",
        "]].copy()\n",
        "\n",
        "#age nikalna from birthdate\n",
        "selected['BirthDate'] = pd.to_datetime(selected['BirthDate'], errors='coerce')\n",
        "selected['Age'] = 2025 - selected['BirthDate'].dt.year  # or current year\n",
        "selected.drop(columns='BirthDate', inplace=True)\n"
      ]
    },
    {
      "cell_type": "markdown",
      "source": [],
      "metadata": {
        "id": "T64DHtHLKeE5"
      }
    },
    {
      "cell_type": "code",
      "source": [
        "\n",
        "\n",
        "data_types = {\n",
        "    'Age': 'Continuous - Ratio',\n",
        "    'Education': 'Categorical - Ordinal',\n",
        "    'Occupation': 'Categorical - Nominal',\n",
        "    'Gender': 'Categorical - Nominal',\n",
        "    'MaritalStatus': 'Categorical - Nominal',\n",
        "    'HomeOwnerFlag': 'Categorical - Nominal (binary)',\n",
        "    'NumberCarsOwned': 'Discrete - Ratio',\n",
        "    'NumberChildrenAtHome': 'Discrete - Ratio',\n",
        "    'TotalChildren': 'Discrete - Ratio',\n",
        "    'YearlyIncome': 'Continuous - Ratio',\n",
        "    'AvgMonthSpend': 'Continuous - Ratio',\n",
        "    'BikeBuyer': 'Categorical - Nominal (binary)'\n",
        "}\n",
        "\n",
        "for k,v in data_types.items():\n",
        "    print(f\"{k}: {v}\")\n"
      ],
      "metadata": {
        "colab": {
          "base_uri": "https://localhost:8080/"
        },
        "id": "NCyD67TpKO3u",
        "outputId": "02d79db7-22eb-434e-f871-4c8f22a27584"
      },
      "execution_count": 8,
      "outputs": [
        {
          "output_type": "stream",
          "name": "stdout",
          "text": [
            "Age: Continuous - Ratio\n",
            "Education: Categorical - Ordinal\n",
            "Occupation: Categorical - Nominal\n",
            "Gender: Categorical - Nominal\n",
            "MaritalStatus: Categorical - Nominal\n",
            "HomeOwnerFlag: Categorical - Nominal (binary)\n",
            "NumberCarsOwned: Discrete - Ratio\n",
            "NumberChildrenAtHome: Discrete - Ratio\n",
            "TotalChildren: Discrete - Ratio\n",
            "YearlyIncome: Continuous - Ratio\n",
            "AvgMonthSpend: Continuous - Ratio\n",
            "BikeBuyer: Categorical - Nominal (binary)\n"
          ]
        }
      ]
    },
    {
      "cell_type": "code",
      "source": [
        "selected.fillna(selected.median(numeric_only=True), inplace=True)\n",
        "selected.fillna('Unknown', inplace=True)\n"
      ],
      "metadata": {
        "id": "mJr_xC1XKbO2"
      },
      "execution_count": 9,
      "outputs": []
    },
    {
      "cell_type": "code",
      "source": [
        "from sklearn.preprocessing import MinMaxScaler\n",
        "\n",
        "scaler = MinMaxScaler()\n",
        "num_cols = ['Age','NumberCarsOwned','NumberChildrenAtHome','TotalChildren','YearlyIncome','AvgMonthSpend']\n",
        "for col in num_cols:\n",
        "    selected[col+'_norm'] = scaler.fit_transform(selected[[col]])\n"
      ],
      "metadata": {
        "id": "iNNBumOrPOPH"
      },
      "execution_count": 10,
      "outputs": []
    },
    {
      "cell_type": "code",
      "source": [
        "from sklearn.preprocessing import KBinsDiscretizer\n",
        "\n",
        "kbins = KBinsDiscretizer(n_bins=5, encode='ordinal', strategy='uniform')\n",
        "selected['Age_bin'] = kbins.fit_transform(selected[['Age']])\n"
      ],
      "metadata": {
        "id": "9nw_7c6qPQiZ"
      },
      "execution_count": 11,
      "outputs": []
    },
    {
      "cell_type": "code",
      "source": [
        "from sklearn.preprocessing import StandardScaler\n",
        "\n",
        "std_scaler = StandardScaler()\n",
        "selected['YearlyIncome_std'] = std_scaler.fit_transform(selected[['YearlyIncome']])\n"
      ],
      "metadata": {
        "id": "XzYDPFZEPVE1"
      },
      "execution_count": 12,
      "outputs": []
    },
    {
      "cell_type": "code",
      "source": [
        "from sklearn.preprocessing import OneHotEncoder\n",
        "\n",
        "categorical_cols = ['Education','Occupation','Gender','MaritalStatus','HomeOwnerFlag']\n",
        "encoder = OneHotEncoder(sparse_output=False, drop='first')\n",
        "encoded = encoder.fit_transform(selected[categorical_cols])\n",
        "encoded_df = pd.DataFrame(encoded, columns=encoder.get_feature_names_out(categorical_cols))\n",
        "df_final = pd.concat([selected.drop(columns=categorical_cols), encoded_df], axis=1)\n"
      ],
      "metadata": {
        "id": "Ir3Yek5JPXmy"
      },
      "execution_count": 13,
      "outputs": []
    },
    {
      "cell_type": "code",
      "source": [
        "from sklearn.metrics.pairwise import cosine_similarity\n",
        "from scipy.spatial.distance import jaccard\n",
        "import numpy as np\n",
        "\n",
        "#  two customers\n",
        "obj1 = df_final.iloc[0].values.reshape(1,-1)\n",
        "obj2 = df_final.iloc[1].values.reshape(1,-1)\n",
        "\n",
        "# Onehot binary similarity\n",
        "bin1 = encoded_df.iloc[0].values\n",
        "bin2 = encoded_df.iloc[1].values\n",
        "\n",
        "# Simple Matching Coefficient\n",
        "smc = np.sum(bin1 == bin2) / len(bin1)\n",
        "\n",
        "# Jaccard Similarity\n",
        "jaccard_sim = 1 - jaccard(bin1, bin2)\n",
        "\n",
        "# Cosine Similarity\n",
        "cos_sim = cosine_similarity(obj1,obj2)[0][0]\n",
        "\n",
        "print(\"Simple Matching Coefficient:\", smc)\n",
        "print(\"Jaccard Similarity:\", jaccard_sim)\n",
        "print(\"Cosine Similarity:\", cos_sim)\n"
      ],
      "metadata": {
        "colab": {
          "base_uri": "https://localhost:8080/"
        },
        "id": "ehFnEXuKPZvP",
        "outputId": "1fa27c44-e386-4d61-ae6b-e3580366729f"
      },
      "execution_count": 14,
      "outputs": [
        {
          "output_type": "stream",
          "name": "stdout",
          "text": [
            "Simple Matching Coefficient: 0.9090909090909091\n",
            "Jaccard Similarity: 0.6666666666666667\n",
            "Cosine Similarity: 0.9999999808154699\n"
          ]
        }
      ]
    },
    {
      "cell_type": "code",
      "source": [
        "from scipy.stats import pearsonr\n",
        "\n",
        "corr, pval = pearsonr(selected['YearlyIncome'], selected['AvgMonthSpend'])\n",
        "print(\"Correlation between YearlyIncome and AvgMonthSpend:\", corr, \"(p-value:\", pval,\")\")\n"
      ],
      "metadata": {
        "colab": {
          "base_uri": "https://localhost:8080/"
        },
        "id": "tizCxHUtPdtq",
        "outputId": "fd10ab27-f009-46d8-900a-08ece7dc480e"
      },
      "execution_count": 15,
      "outputs": [
        {
          "output_type": "stream",
          "name": "stdout",
          "text": [
            "Correlation between YearlyIncome and AvgMonthSpend: 0.5301257155563446 (p-value: 0.0 )\n"
          ]
        }
      ]
    }
  ]
}